{
 "cells": [
  {
   "cell_type": "code",
   "execution_count": 1,
   "metadata": {},
   "outputs": [],
   "source": [
    "import configparser\n",
    "import os\n",
    "import imaplib\n",
    "import email\n",
    "import firebase_admin\n",
    "from firebase_admin import credentials, firestore"
   ]
  },
  {
   "cell_type": "code",
   "execution_count": 9,
   "metadata": {},
   "outputs": [],
   "source": [
    "def get_config_data(iten_title, iten, config_path=os.path.join(os.getcwd(), 'config.txt')):\n",
    "    \"\"\"\n",
    "    It reads a config file and returns the value of a given item\n",
    "    :param iten_title: The title of the section in the config file\n",
    "    :param iten: the name of the parameter you want to get from the config file\n",
    "    :param config_path: The path to the config file\n",
    "    :return: A string\n",
    "    \"\"\"\n",
    "\n",
    "    arq_config = configparser.RawConfigParser()\n",
    "    arq_config.read(config_path)\n",
    "\n",
    "    data = arq_config.get(iten_title, iten)\n",
    "\n",
    "    return str(data)\n",
    "\n",
    "def create_email_server(usr, psw):\n",
    "    \"\"\"\n",
    "    It creates a server that can send emails\n",
    "    :return: The server object\n",
    "    \"\"\"\n",
    "\n",
    "    email_server = imaplib.IMAP4_SSL('imap.gmail.com')\n",
    "    email_server.login(usr, psw)\n",
    "\n",
    "    return email_server"
   ]
  },
  {
   "cell_type": "code",
   "execution_count": 10,
   "metadata": {},
   "outputs": [
    {
     "data": {
      "text/plain": [
       "('OK', [b'2'])"
      ]
     },
     "execution_count": 10,
     "metadata": {},
     "output_type": "execute_result"
    }
   ],
   "source": [
    "user = get_config_data(iten_title='EMAIL_LOGIN', iten='email')\n",
    "psw = get_config_data(iten_title='EMAIL_LOGIN', iten='password')\n",
    "\n",
    "email_server = create_email_server(user, psw)\n",
    "email_server.select('EasyMeetingAnswer')"
   ]
  },
  {
   "cell_type": "code",
   "execution_count": 11,
   "metadata": {},
   "outputs": [
    {
     "data": {
      "text/plain": [
       "('OK', [b'1 2'])"
      ]
     },
     "execution_count": 11,
     "metadata": {},
     "output_type": "execute_result"
    }
   ],
   "source": [
    "status, data = email_server.search(None, 'ALL')\n",
    "status, data"
   ]
  },
  {
   "cell_type": "code",
   "execution_count": 12,
   "metadata": {},
   "outputs": [
    {
     "data": {
      "text/plain": [
       "[b'1', b'2']"
      ]
     },
     "execution_count": 12,
     "metadata": {},
     "output_type": "execute_result"
    }
   ],
   "source": [
    "mail_ids = [block.split() for block in data].pop(0)\n",
    "mail_ids"
   ]
  },
  {
   "cell_type": "code",
   "execution_count": 13,
   "metadata": {},
   "outputs": [
    {
     "data": {
      "text/plain": [
       "('1', '2')"
      ]
     },
     "execution_count": 13,
     "metadata": {},
     "output_type": "execute_result"
    }
   ],
   "source": [
    "# define the range for the operation\n",
    "start = mail_ids[0].decode()\n",
    "end = mail_ids[-1].decode()\n",
    "\n",
    "start, end"
   ]
  },
  {
   "cell_type": "code",
   "execution_count": 14,
   "metadata": {},
   "outputs": [
    {
     "data": {
      "text/plain": [
       "('OK',\n",
       " [(b'1 (RFC822 {11304}',\n",
       "   b'Delivered-To: easymeeting.sender@gmail.com\\r\\nReceived: by 2002:a17:902:ba82:b0:17f:9254:2266 with SMTP id k2csp2774962pls;\\r\\n        Mon, 17 Oct 2022 15:19:26 -0700 (PDT)\\r\\nX-Google-Smtp-Source: AMsMyM4JBwEAxprfr/mvfRraQRmmnUXw7kR7wNumzXIp8gLd0StvJjmZIVDhQTFLcIZ8rFrli3r5\\r\\nX-Received: by 2002:a05:6638:4803:b0:363:c2ad:878 with SMTP id cp3-20020a056638480300b00363c2ad0878mr43411jab.230.1666045166361;\\r\\n        Mon, 17 Oct 2022 15:19:26 -0700 (PDT)\\r\\nARC-Seal: i=2; a=rsa-sha256; t=1666045166; cv=pass;\\r\\n        d=google.com; s=arc-20160816;\\r\\n        b=RcMCyG69prMXT6DJom/HbSUdmgmONUNItsTn1WXelGpypJUSyBipOmEaEdpgMdFfnR\\r\\n         PV58/GNSSc49+UL5OqyM8IXieOBBzCIII0xro+6StW0T4Wd+0QYLd7Acf3FJGiMuoda0\\r\\n         fz/0085rovlLmAj0v6nFxnJIG/XywYmHavr1USMVWcff1xen4iV+BxL1E81UtmYTmwEs\\r\\n         qt/LkgUfwFUsevYJReh7tm9a6X5qwHgf9NSBtWZqkyJRUEKiQa0LXP6a22CpDuyMjusr\\r\\n         y1osslPVb0DsfB/14CQgBYaqcRnmEIf/lglVbqU766Y33ZcU/UrM6a5xbYU6nieJPEU5\\r\\n         rAJw==\\r\\nARC-Message-Signature: i=2; a=rsa-sha256; c=relaxed/relaxed; d=google.com; s=arc-20160816;\\r\\n        h=mime-version:content-language:accept-language:in-reply-to\\r\\n         :references:message-id:date:thread-index:thread-topic:subject:to\\r\\n         :from:dkim-signature;\\r\\n        bh=ol0BL6Uf1e9RABf9JiKSNtoL5B+6R+y6XLO1gQXmuag=;\\r\\n        b=Pvg+NzXFxc6FaoRhIrZJ4Z+JHQbnYNpUOikgmBH1bR7YfVaMclbNku8CEU3y6ksr7O\\r\\n         MnUGLjwTw8vQbxkvWtKPVmuv35oXjGkgtahVVL2S8SsehsjODom8hugR+TXK3+C2vgWF\\r\\n         Z70Qvw7GgKypK8MrQxDU7oo31crMa+szDIHx82eAsMJw7zcVC48kHmWx7dPkO/QTCXM/\\r\\n         awQbFRSUqVNZdBOxbWnb2bPKeTF2Jb5+or0coquS/WToJEK0vbUNpBhLIuXwcWHXNk7r\\r\\n         2Fa+/D5uKTnTrRfM16OFh7fndvoUuyj6Avo+OmmXV6H8pVXw12pNlmvph5SIVAr5pRZF\\r\\n         jimA==\\r\\nARC-Authentication-Results: i=2; mx.google.com;\\r\\n       dkim=pass header.i=@hotmail.com header.s=selector1 header.b=IarMpqW+;\\r\\n       arc=pass (i=1);\\r\\n       spf=pass (google.com: domain of vitorlima.soares@hotmail.com designates 40.92.41.19 as permitted sender) smtp.mailfrom=vitorlima.soares@hotmail.com;\\r\\n       dmarc=pass (p=NONE sp=NONE dis=NONE) header.from=hotmail.com\\r\\nReturn-Path: <vitorlima.soares@hotmail.com>\\r\\nReceived: from NAM10-DM6-obe.outbound.protection.outlook.com (mail-dm6nam10olkn2019.outbound.protection.outlook.com. [40.92.41.19])\\r\\n        by mx.google.com with ESMTPS id 185-20020a0211c2000000b003434955a50fsi10185790jaf.73.2022.10.17.15.19.26\\r\\n        for <easymeeting.sender@gmail.com>\\r\\n        (version=TLS1_2 cipher=ECDHE-ECDSA-AES128-GCM-SHA256 bits=128/128);\\r\\n        Mon, 17 Oct 2022 15:19:26 -0700 (PDT)\\r\\nReceived-SPF: pass (google.com: domain of vitorlima.soares@hotmail.com designates 40.92.41.19 as permitted sender) client-ip=40.92.41.19;\\r\\nAuthentication-Results: mx.google.com;\\r\\n       dkim=pass header.i=@hotmail.com header.s=selector1 header.b=IarMpqW+;\\r\\n       arc=pass (i=1);\\r\\n       spf=pass (google.com: domain of vitorlima.soares@hotmail.com designates 40.92.41.19 as permitted sender) smtp.mailfrom=vitorlima.soares@hotmail.com;\\r\\n       dmarc=pass (p=NONE sp=NONE dis=NONE) header.from=hotmail.com\\r\\nARC-Seal: i=1; a=rsa-sha256; s=arcselector9901; d=microsoft.com; cv=none;\\r\\n b=TneaIPRs0eS0vLVEzt4ClNW2WtKH2gz09W4jtRqsxTuV+kydXQssWv+I82Ep01n1xmtF/aaoSFVRxQOLFqBch1Y8zGZ71W2wwcOG2hXetsQ9qlrc+rv1BXzFPZJLowSASNPjI05X/MC7CWA7MD9XUlaNgJ/U3YgQKwtLLDJS6dgsmJVZy+QgtdPjN9ksgomnd0HmIdUi+ehx6nRojCKn14EiW4O+iihOWo8Qwqq/hKYuX7Qj7r+KkO5itMb8Ycz4OTha2JK8YVmQh5UOKmH2lJnoAPzl22+2tUqY2R0MfOMmPxxwcnW9PzA9t2jUw2hPTpP99ZGmy50VR+NxaEGKuw==\\r\\nARC-Message-Signature: i=1; a=rsa-sha256; c=relaxed/relaxed; d=microsoft.com;\\r\\n s=arcselector9901;\\r\\n h=From:Date:Subject:Message-ID:Content-Type:MIME-Version:X-MS-Exchange-AntiSpam-MessageData-ChunkCount:X-MS-Exchange-AntiSpam-MessageData-0:X-MS-Exchange-AntiSpam-MessageData-1;\\r\\n bh=ol0BL6Uf1e9RABf9JiKSNtoL5B+6R+y6XLO1gQXmuag=;\\r\\n b=P+zA8DYOdbd+iNmicA8lwuQq/Y0Ti5WNciynDLx2H2/kqNctcrVxKhgxcYDklgC0GhQqGI6h80DosHtGYeANo+nrlsTtyL7vR/Uu4kJe+BFeL/4NHzdJ2rlwycbZgDrIefB8JdnncszdmfmWJ9NFr104DTjfiJc5V4CROscb05Q1+6rRxgn9bF4FMKwVHfe85gwRNQ6tkMcFfxtr4LnEI2xO4oDgwmjN/qdBZOKnjmAuMcDL/6i6XiaZ1JrpQB5NcwNedCDig9u9F5SfoHGEyjWlafVDnyZsecTWXrtzxU/HGCKfKHiHB1iD6WQvRDu1aZTjw0NbYCZXfBUWnd9HXg==\\r\\nARC-Authentication-Results: i=1; mx.microsoft.com 1; spf=none; dmarc=none;\\r\\n dkim=none; arc=none\\r\\nDKIM-Signature: v=1; a=rsa-sha256; c=relaxed/relaxed; d=hotmail.com;\\r\\n s=selector1;\\r\\n h=From:Date:Subject:Message-ID:Content-Type:MIME-Version:X-MS-Exchange-SenderADCheck;\\r\\n bh=ol0BL6Uf1e9RABf9JiKSNtoL5B+6R+y6XLO1gQXmuag=;\\r\\n b=IarMpqW+ErlR3cYiVjX76tzSQNOYD2/ADmGw2azfJGJDIUwLzZOZLcGRhQNyiF14cSsAfiwc/TKeJi39ArIx/PezLKNgWEJDe3AxMPnByzKpT8/WZbdeQ9SoPAWRX11Cqu3vNJSVcKjnkv9lrE3XcWiqi2D/8OZ5phwlCadfTSCb3hjkDAbadc1xELBeO2zYztIdvDlSpJco3hpRk0PxPkE5WRnLRpe/I02686/pu4yEW1T0HjtCKRTL4nrPLD450EWdGQP/1+rOs83joyuhHdMWgaGZYXvs94+th9yOi2wcDVA3lbyxGrSTzyYrmcjY1cbgHsASH68b505aktalPg==\\r\\nReceived: from MN0PR19MB5779.namprd19.prod.outlook.com (2603:10b6:208:377::15)\\r\\n by MW4PR19MB6794.namprd19.prod.outlook.com (2603:10b6:303:207::14) with\\r\\n Microsoft SMTP Server (version=TLS1_2,\\r\\n cipher=TLS_ECDHE_RSA_WITH_AES_256_GCM_SHA384) id 15.20.5723.26; Mon, 17 Oct\\r\\n 2022 22:19:25 +0000\\r\\nReceived: from MN0PR19MB5779.namprd19.prod.outlook.com\\r\\n ([fe80::3870:15b4:bdf8:49d7]) by MN0PR19MB5779.namprd19.prod.outlook.com\\r\\n ([fe80::3870:15b4:bdf8:49d7%3]) with mapi id 15.20.5723.033; Mon, 17 Oct 2022\\r\\n 22:19:25 +0000\\r\\nFrom: Vitor Augusto Lima Soares <vitorlima.soares@hotmail.com>\\r\\nTo: \"easymeeting.sender@gmail.com\" <easymeeting.sender@gmail.com>\\r\\nSubject: Teste de email automatico\\r\\nThread-Topic: Teste de email automatico\\r\\nThread-Index: AQHY4byA0834Xg4B40GQ1NCBQFRdSq4TKWJv\\r\\nDate: Mon, 17 Oct 2022 22:19:25 +0000\\r\\nMessage-ID:\\r\\n <MN0PR19MB57791BF05E3AB8FE6694458887299@MN0PR19MB5779.namprd19.prod.outlook.com>\\r\\nReferences: <634c9cd5.050a0220.a6f30.00a4@mx.google.com>\\r\\nIn-Reply-To: <634c9cd5.050a0220.a6f30.00a4@mx.google.com>\\r\\nAccept-Language: pt-BR, en-US\\r\\nContent-Language: pt-BR\\r\\nX-MS-Has-Attach:\\r\\nX-MS-TNEF-Correlator:\\r\\nx-ms-exchange-messagesentrepresentingtype: 1\\r\\nx-tmn: [l/NG2c/MBVwoEKrkuWiAqBJbwIn8P+B4]\\r\\nx-ms-publictraffictype: Email\\r\\nx-ms-traffictypediagnostic: MN0PR19MB5779:EE_|MW4PR19MB6794:EE_\\r\\nx-ms-office365-filtering-correlation-id: 380b1be0-6551-4e71-5f52-08dab08da632\\r\\nx-microsoft-antispam: BCL:0;\\r\\nx-microsoft-antispam-message-info:\\r\\n PfGKyGrFsqjhREAKiGxnPU2gRHDnwzR7sFRvQBQ6CTArzqkRcdApLRKlBx8e3jmVqiYD2y53CsqlEM5eFK9b19o5kT7mQjW6GWck1dpumN/BkR6gEdUoSIQw/MM3h30tZpQKDbfrGCrDeysey9WUKJvBtiSaO5naQfnc8IUGd38ku3w+lTOdh/SnKlgFNT5B0Y0JonUwJsCW6QSxnOeWeK4XNDLNtdx8nu164lEVqZGnhZFIsMd5BX8MWSzIikIGdjrU8mH+CpcRNi4jJwjhxK7InOHS5G80x+1n2cpEMsvZqNH2eNZJ++XfbKHpSPyVDtLCcpoBNRfsh96MkZCoI8GRYM65qR9wdvKB20LBhG5EMF/EXTWklUnMwQTU1lE+4Vp4v0kBlkZSmFWg+RMunhP5zp8MkVKM7BpteTIEKp58sDfsBnQlXE70WWb5DBbf/okbi+ICMlbO+F89PCPRey8kqxjjnG/gaSZ4rFs6cY8ddWZmoIc3gl3Ex45RKi6KENhTyhmCNVnI+ztgRZWFFM3QufD+48NWkgsKgqQ8DQxgDKdUrGwVED6pNNI3ZV2LiM4DFTBBfBANkQJuHEcB8Lq6f4c49Z1thkb+VArRt3eeCtFWZly6A18hCHd4JA5QvHyAH6aNK/gzaXUbgDyIUg==\\r\\nx-ms-exchange-antispam-messagedata-chunkcount: 1\\r\\nx-ms-exchange-antispam-messagedata-0:\\r\\n =?us-ascii?Q?VJTMuT0qKHD+K45QoYZESKK1u+IIOxtKcVpUtFlsv/hj3RIG8gZcDRKbttym?=\\r\\n =?us-ascii?Q?6+qCsp2ERSn+3wH4t/dkZRvzgYB7Rf5+UWKGuQNncJKV/nkZLO0DrJsW6uiD?=\\r\\n =?us-ascii?Q?jVN7cR9uRhCKjrpjJ+HMDRJf5Qy7wfgrlQ4b0fFkeO6XGM3vK6reHMvVlmKF?=\\r\\n =?us-ascii?Q?UVFGtPxhfjPEvAqiz+CPLEBP7kca7AC5EZJq8ruUDRKAOS6IeQoo6d97wPxA?=\\r\\n =?us-ascii?Q?qC8kMpuRSVbZPUo1F9cdyDSq9qi+FYGaYmVdi++VolL184XPIErb6i8eBLuw?=\\r\\n =?us-ascii?Q?JP3dmT85V7eH5nOwHhTAvI8iilszVLrKQTkd/JW686Cvsf/Uwc7GxbI0tnlS?=\\r\\n =?us-ascii?Q?2ev3qqxT8nnF2kXYwi88OddaYQjGV1rGzNytNwjJffDC+d8grhzt1nLoDzWi?=\\r\\n =?us-ascii?Q?xj3ZoSTTUrRCuB1cqKAZi/F2NntzQG1E0QxpW6GoTDpFORpfL0sfdj9vw0lt?=\\r\\n =?us-ascii?Q?CVg3X5Rkv5n/518eYPsBYMW5/AOaXv4WzqNzxzHPGAjnZHf6D2dDiBjUSYu7?=\\r\\n =?us-ascii?Q?n0Hmia8WmWgGL9AKFiaKGDaMWifi1UobHXnIAPA0plSIH66etBKTR5nXBU+S?=\\r\\n =?us-ascii?Q?EytsR3zAaWfOq2bZck35vSZ1XrIkhB/zfzC2pJ1mu8icg+rEZ/B45csMmPgI?=\\r\\n =?us-ascii?Q?Zka+nSahKjmXEEr8pHpBNMNpf5UrCG2P/kacci7ryq2u0duwskbC2mjuvFGc?=\\r\\n =?us-ascii?Q?Et6p+nKw2BHOv2ZG9bEscET/DeYWhcveXHb3AYp86x/UMMbarE3TqwdulkrU?=\\r\\n =?us-ascii?Q?kh+jEkU8cmhzJbIRXGJI2/NOhYuPUAe6MBbY7DBXhunINjGcFRXghjuU2ULb?=\\r\\n =?us-ascii?Q?KUABiv4708uaLgx9RnH253R5BJDwrplVhl3sdH2zudJVJoZEHsqDFh/vSLON?=\\r\\n =?us-ascii?Q?YpD29/gxytqhPVQZBBXZOoKbNTUWseQEoz+KrdK9Q9kJFFouTckMkyz/A9vC?=\\r\\n =?us-ascii?Q?TLYDmaIlxfMVuDyNabb+TzfKfRf2ocMCIvYUTkULraOajW0YZe3Wt9tRxagP?=\\r\\n =?us-ascii?Q?Mue+2Uqu8n4rrfysR3eU8WNOElUWHhimpBeF4skJVbB1rwRGtu0Nt38G8N0q?=\\r\\n =?us-ascii?Q?muhtkRqyRY+BzG8VYCQrNkxYz9hGiXHj3Ua9kCSZvsYs1pSVcaPfKT9lDe0L?=\\r\\n =?us-ascii?Q?y4qmQ8sbq3rrp1KhYM4v/tPbtPecQPmI9w/m7YYqYICRE2nAZj7DGLFqNzHl?=\\r\\n =?us-ascii?Q?D2lcY3ZKMVgjUuj8KMUCEbMvWuY1boepOz+cWCEHI0hdgmhr5abJlnVAsa53?=\\r\\n =?us-ascii?Q?es+sfj3ncD+R5uvbTce3MY5mqm1QWTma0KAffZacR0MAW9u6CwqpVUgYHkUz?=\\r\\n =?us-ascii?Q?kZ23MXVYmf+AXclLCLWKOpMJ?=\\r\\nContent-Type: multipart/alternative;\\r\\n\\tboundary=\"_000_MN0PR19MB57791BF05E3AB8FE6694458887299MN0PR19MB5779namp_\"\\r\\nMIME-Version: 1.0\\r\\nX-OriginatorOrg: sct-15-20-4755-11-msonline-outlook-e7757.templateTenant\\r\\nX-MS-Exchange-CrossTenant-AuthAs: Internal\\r\\nX-MS-Exchange-CrossTenant-AuthSource: MN0PR19MB5779.namprd19.prod.outlook.com\\r\\nX-MS-Exchange-CrossTenant-RMS-PersistedConsumerOrg: 00000000-0000-0000-0000-000000000000\\r\\nX-MS-Exchange-CrossTenant-Network-Message-Id: 380b1be0-6551-4e71-5f52-08dab08da632\\r\\nX-MS-Exchange-CrossTenant-originalarrivaltime: 17 Oct 2022 22:19:25.0917\\r\\n (UTC)\\r\\nX-MS-Exchange-CrossTenant-fromentityheader: Hosted\\r\\nX-MS-Exchange-CrossTenant-id: 84df9e7f-e9f6-40af-b435-aaaaaaaaaaaa\\r\\nX-MS-Exchange-CrossTenant-rms-persistedconsumerorg: 00000000-0000-0000-0000-000000000000\\r\\nX-MS-Exchange-Transport-CrossTenantHeadersStamped: MW4PR19MB6794\\r\\n\\r\\n--_000_MN0PR19MB57791BF05E3AB8FE6694458887299MN0PR19MB5779namp_\\r\\nContent-Type: text/plain; charset=\"us-ascii\"\\r\\nContent-Transfer-Encoding: quoted-printable\\r\\n\\r\\n\\r\\nTeste de resposta do email\\r\\n\\r\\n\\r\\n\\r\\n--_000_MN0PR19MB57791BF05E3AB8FE6694458887299MN0PR19MB5779namp_\\r\\nContent-Type: text/html; charset=\"us-ascii\"\\r\\nContent-Transfer-Encoding: quoted-printable\\r\\n\\r\\n<html xmlns:o=3D\"urn:schemas-microsoft-com:office:office\" xmlns:w=3D\"urn:sc=\\r\\nhemas-microsoft-com:office:word\" xmlns:m=3D\"http://schemas.microsoft.com/of=\\r\\nfice/2004/12/omml\" xmlns=3D\"http://www.w3.org/TR/REC-html40\">\\r\\n<head>\\r\\n<meta http-equiv=3D\"Content-Type\" content=3D\"text/html; charset=3Dus-ascii\"=\\r\\n>\\r\\n<meta name=3D\"Generator\" content=3D\"Microsoft Word 15 (filtered medium)\">\\r\\n<style><!--\\r\\n/* Font Definitions */\\r\\n@font-face\\r\\n\\t{font-family:\"Cambria Math\";\\r\\n\\tpanose-1:2 4 5 3 5 4 6 3 2 4;}\\r\\n@font-face\\r\\n\\t{font-family:Calibri;\\r\\n\\tpanose-1:2 15 5 2 2 2 4 3 2 4;}\\r\\n/* Style Definitions */\\r\\np.MsoNormal, li.MsoNormal, div.MsoNormal\\r\\n\\t{margin:0cm;\\r\\n\\tfont-size:11.0pt;\\r\\n\\tfont-family:\"Calibri\",sans-serif;}\\r\\n.MsoChpDefault\\r\\n\\t{mso-style-type:export-only;}\\r\\n@page WordSection1\\r\\n\\t{size:612.0pt 792.0pt;\\r\\n\\tmargin:70.85pt 3.0cm 70.85pt 3.0cm;}\\r\\ndiv.WordSection1\\r\\n\\t{page:WordSection1;}\\r\\n--></style>\\r\\n</head>\\r\\n<body lang=3D\"PT-BR\" link=3D\"blue\" vlink=3D\"#954F72\" style=3D\"word-wrap:bre=\\r\\nak-word\">\\r\\n<div class=3D\"WordSection1\">\\r\\n<p class=3D\"MsoNormal\"><o:p>&nbsp;</o:p></p>\\r\\n<p class=3D\"MsoNormal\">Teste de resposta do email </p>\\r\\n<p class=3D\"MsoNormal\"><o:p>&nbsp;</o:p></p>\\r\\n<p class=3D\"MsoNormal\"><o:p>&nbsp;</o:p></p>\\r\\n</div>\\r\\n</body>\\r\\n</html>\\r\\n\\r\\n--_000_MN0PR19MB57791BF05E3AB8FE6694458887299MN0PR19MB5779namp_--\\r\\n'),\n",
       "  b')'])"
      ]
     },
     "execution_count": 14,
     "metadata": {},
     "output_type": "execute_result"
    }
   ],
   "source": [
    "status, data = email_server.fetch(mail_ids[0], '(RFC822)')\n",
    "status, data"
   ]
  },
  {
   "cell_type": "code",
   "execution_count": 18,
   "metadata": {},
   "outputs": [
    {
     "data": {
      "text/plain": [
       "tuple"
      ]
     },
     "execution_count": 18,
     "metadata": {},
     "output_type": "execute_result"
    }
   ],
   "source": [
    "type(data[0])"
   ]
  },
  {
   "cell_type": "code",
   "execution_count": 15,
   "metadata": {},
   "outputs": [
    {
     "name": "stdout",
     "output_type": "stream",
     "text": [
      "From: Vitor Augusto Lima Soares <vitorlima.soares@hotmail.com>\n",
      "Subject: Teste de email automatico\n",
      "Content: \n",
      "Teste de resposta do email\n",
      "\n",
      "\n",
      "\n"
     ]
    }
   ],
   "source": [
    "for response_part in data:\n",
    "    # so if its a tuple...\n",
    "    if isinstance(response_part, tuple):\n",
    "        # we go for the content at its second element\n",
    "        # skipping the header at the first and the closing\n",
    "        # at the third\n",
    "        message = email.message_from_bytes(response_part[1])\n",
    "\n",
    "        # with the content we can extract the info about\n",
    "        # who sent the message and its subject\n",
    "        mail_from = message['from']\n",
    "        mail_subject = message['subject']\n",
    "\n",
    "        # then for the text we have a little more work to do\n",
    "        # because it can be in plain text or multipart\n",
    "        # if its not plain text we need to separate the message\n",
    "        # from its annexes to get the text\n",
    "        if message.is_multipart():\n",
    "            mail_content = ''\n",
    "\n",
    "            # on multipart we have the text message and\n",
    "            # another things like annex, and html version\n",
    "            # of the message, in that case we loop through\n",
    "            # the email payload\n",
    "            for part in message.get_payload():\n",
    "                # if the content type is text/plain\n",
    "                # we extract it\n",
    "                if part.get_content_type() == 'text/plain':\n",
    "                    mail_content += part.get_payload()\n",
    "        else:\n",
    "            # if the message isn't multipart, just extract it\n",
    "            mail_content = message.get_payload()\n",
    "\n",
    "        # and then let's show its result\n",
    "        print(f'From: {mail_from}')\n",
    "        print(f'Subject: {mail_subject}')\n",
    "        print(f'Content: {mail_content}')"
   ]
  },
  {
   "cell_type": "markdown",
   "metadata": {},
   "source": [
    "## Conectando como banco de dados Firestore"
   ]
  },
  {
   "cell_type": "code",
   "execution_count": 2,
   "metadata": {},
   "outputs": [
    {
     "data": {
      "text/plain": [
       "<firebase_admin.App at 0x1d8c7a0ee30>"
      ]
     },
     "execution_count": 2,
     "metadata": {},
     "output_type": "execute_result"
    }
   ],
   "source": [
    "cred = credentials.Certificate(\"FireBase_Project_Key\\easyMeeting_prod.json\")\n",
    "firebase_admin.initialize_app(cred)"
   ]
  },
  {
   "cell_type": "code",
   "execution_count": 3,
   "metadata": {},
   "outputs": [],
   "source": [
    "db = firestore.client() # connecting to firestore"
   ]
  },
  {
   "cell_type": "markdown",
   "metadata": {},
   "source": [
    "### Insert \n",
    "- Criando uma nova collection"
   ]
  },
  {
   "cell_type": "code",
   "execution_count": 70,
   "metadata": {},
   "outputs": [],
   "source": [
    "user_input = {\n",
    "  \"creator\":\"Luiz henrique\",\n",
    "  \"date\": [\"29/11/2022\", \"30/11/2022\", \"01/12/2022\"],\n",
    "  \"email\": [\"vitorlima.soares@hotmail.com\", \"vitoraugustodelimasoares@gmail.com\"],\n",
    "  \"id\":\"12\",\n",
    "  \"link\":\"www.zoom.com.br\",\n",
    "  \"qtdParticipantes\": \"2\",\n",
    "  \"status\":\"Pendente\",\n",
    "  \"title\": \"Reuniao de faturamento Novembro 2022\"\n",
    "}"
   ]
  },
  {
   "cell_type": "code",
   "execution_count": 71,
   "metadata": {},
   "outputs": [
    {
     "name": "stdout",
     "output_type": "stream",
     "text": [
      "update_time {\n",
      "  seconds: 1669942625\n",
      "  nanos: 248926000\n",
      "}\n",
      "\n"
     ]
    }
   ],
   "source": [
    "collection = db.collection('meetings')  # create collection\n",
    "res = collection.document(user_input['id']).set(user_input)\n",
    "print(res)"
   ]
  },
  {
   "cell_type": "markdown",
   "metadata": {},
   "source": [
    "### Find document"
   ]
  },
  {
   "cell_type": "code",
   "execution_count": 72,
   "metadata": {},
   "outputs": [
    {
     "data": {
      "text/plain": [
       "'12'"
      ]
     },
     "execution_count": 72,
     "metadata": {},
     "output_type": "execute_result"
    }
   ],
   "source": [
    "collection_name = user_input['id']\n",
    "collection_name"
   ]
  },
  {
   "cell_type": "code",
   "execution_count": 73,
   "metadata": {},
   "outputs": [],
   "source": [
    "res = collection.document(collection_name).get().to_dict()\n",
    "res"
   ]
  },
  {
   "cell_type": "code",
   "execution_count": 89,
   "metadata": {},
   "outputs": [
    {
     "name": "stdout",
     "output_type": "stream",
     "text": [
      "{'date': ['01/12', '02/12', '05/12'], 'creator': 'Luiz Henrique', 'id': '5a88f296-deb3-4664-973b-7df49e13bc63', 'email_date': [{'email_user': 'luizhgrodrigues@outlook.com', 'date': ''}, {'email_user': 'vitorlima.soares@hotmail.com', 'date': ''}], 'chooseDate': '--/--', 'link': 'https://www.zoom.com/meeting123', 'qtdParticipantes': 2, 'title': 'Reunião de acompanhamento UPX 2022', 'status': 'Pendente', 'email': ['luizhgrodrigues@outlook.com', 'vitorlima.soares@hotmail.com']}\n"
     ]
    }
   ],
   "source": [
    "res = collection.get() # returns a list\n",
    "for i in res: print(i.to_dict())"
   ]
  },
  {
   "cell_type": "code",
   "execution_count": null,
   "metadata": {},
   "outputs": [],
   "source": [
    "{\"date\": [\"01/12\", \"02/12\", \"05/12\"], \"creator\": \"Luiz Henrique\", \"id\": \"5a88f296-deb3-4664-973b-7df49e13bc63\", \"email_date\": [{\"email_user\": \"luizhgrodrigues@outlook.com\", \"date\": \"\"}, {\"email_user\": \"vitorlima.soares@hotmail.com\", \"date\": \"\"}], \"chooseDate\": \"--/--\", \"link\": \"https://www.zoom.com/meeting123\", \"qtdParticipantes\": 2, \"title\": \"Reunião de acompanhamento UPX 2022\", \"status\": \"Pendente\", \"email\": [\"luizhgrodrigues@outlook.com\", \"vitorlima.soares@hotmail.com\"]}"
   ]
  },
  {
   "cell_type": "code",
   "execution_count": 76,
   "metadata": {},
   "outputs": [],
   "source": [
    "collection_return = {\n",
    "    \"qtdParticipantes\": 3, \n",
    "    \"creator\": \"Luiz Henrique\", \n",
    "    \"id\": \"77caf784-f57b-47d0-bc9d-4bd0761a168e\", \n",
    "    \"chooseDate\": \"--/--\", \n",
    "    \"email_date\": [{\"email_user\": \"luizhgrodrigues@outlook.com\", \"date\": \"\"}, \n",
    "    {\"email_user\": \"alanzinho2012@gmail.com\", \"date\": \"\"}, \n",
    "    {\"email_user\": \"vitorlima@gmail.com\", \"date\": \"\"}], \n",
    "    \"link\": \"https://www.zoom.com/meeting12312\", \n",
    "    \"date\": [\"10/01\", \"11/01\", \"12/01\"], \n",
    "    \"title\": \"Reunião de finanças Dez 2022\", \n",
    "    \"status\": \"Pendente\", \n",
    "    \"email\": [\"luizhgrodrigues@outlook.com\", \"alanzinho2012@gmail.com\", \"vitorlima@gmail.com\"]\n",
    "}"
   ]
  },
  {
   "cell_type": "code",
   "execution_count": 83,
   "metadata": {},
   "outputs": [
    {
     "data": {
      "text/plain": [
       "[{'email_user': 'luizhgrodrigues@outlook.com', 'date': ''},\n",
       " {'email_user': 'alanzinho2012@gmail.com', 'date': ''},\n",
       " {'email_user': 'vitorlima@gmail.com', 'date': ''}]"
      ]
     },
     "execution_count": 83,
     "metadata": {},
     "output_type": "execute_result"
    }
   ],
   "source": [
    "data_fb = collection_return['email_date']\n",
    "data_fb"
   ]
  },
  {
   "cell_type": "code",
   "execution_count": 84,
   "metadata": {},
   "outputs": [],
   "source": [
    "data_usuario = 'vitorlima@gmail.com'"
   ]
  },
  {
   "cell_type": "code",
   "execution_count": 85,
   "metadata": {},
   "outputs": [
    {
     "name": "stdout",
     "output_type": "stream",
     "text": [
      "{'email_user': 'vitorlima@gmail.com', 'date': '10/01'}\n"
     ]
    }
   ],
   "source": [
    "for emai_date_dict in data_fb:\n",
    "    if emai_date_dict['email_user'] == data_usuario:\n",
    "        emai_date_dict['date'] = \"10/01\"\n",
    "        print(emai_date_dict)"
   ]
  },
  {
   "cell_type": "code",
   "execution_count": 87,
   "metadata": {},
   "outputs": [
    {
     "data": {
      "text/plain": [
       "[{'email_user': 'luizhgrodrigues@outlook.com', 'date': ''},\n",
       " {'email_user': 'alanzinho2012@gmail.com', 'date': ''},\n",
       " {'email_user': 'vitorlima@gmail.com', 'date': '10/01'}]"
      ]
     },
     "execution_count": 87,
     "metadata": {},
     "output_type": "execute_result"
    }
   ],
   "source": [
    "data_fb"
   ]
  },
  {
   "cell_type": "code",
   "execution_count": null,
   "metadata": {},
   "outputs": [],
   "source": [
    "replace_index = data_fb.index()"
   ]
  },
  {
   "cell_type": "markdown",
   "metadata": {},
   "source": [
    "### Ler todas as coleções do banco de dados"
   ]
  },
  {
   "cell_type": "code",
   "execution_count": 41,
   "metadata": {},
   "outputs": [],
   "source": [
    "collection = db.collection('meetings')"
   ]
  },
  {
   "cell_type": "code",
   "execution_count": 42,
   "metadata": {},
   "outputs": [
    {
     "name": "stdout",
     "output_type": "stream",
     "text": [
      "{'date': ['29/11/2022', '30/11/2022', '01/12/2022'], 'qtdParticipantes': 2, 'id': '123456', 'link': 'www.zoom.com.br', 'title': 'Reuniao de faturamen...embro 2022', 'robot_status': 'sucesso', 'status': 'Pendente', 'email': [{'email_user': 'vitoraugustodelimasoares@gmail.com', 'date': '30/11/2022'}, {'email_user': 'vitoraugustodelimaso...@gmail.com', 'date': '01/12/2022'}], 'creator_name': 'Luiz henrique'}\n",
      "{'qtdParticipantes': 2, 'date': ['29/11/2022', '30/11/2022', '01/12/2022'], 'id': 'd7cc2d8f-28dd-4d81-afed-b56262dfa56f', 'link': 'www.zoom.com.br', 'title': 'Reuniao de faturamen...embro 2022', 'robot_status': 'sucesso', 'email': {'email_user': 'vitoraugustodelimaso...@gmail.com', 'date': '01/12/2022'}, 'status': 'Pendente', 'creator_name': 'Luiz henrique'}\n",
      "{'date': ['29/11', '30/11', '01/12'], 'creator': 'Luiz Henrique Góes', 'id': 'd7cc2d8f-28dd-4d81-afed-b56262dfa56f', 'chooseDate': '--/--', 'qtdParticipantes': 3, 'link': 'https://www.zoom.com/meetings:129038123', 'title': 'Reunião de faturamento Novembro 2022', 'email': ['luizhgrodrigues@outlook.com', 'alanzinho2012@gmail.com', 'vitorlima@hotmail.com'], 'status': 'Pendente'}\n"
     ]
    }
   ],
   "source": [
    "res = collection.get() # returns a list\n",
    "for i in res: print(i.to_dict())"
   ]
  },
  {
   "cell_type": "markdown",
   "metadata": {},
   "source": [
    "### Buscando o docuimento, filtrando pelo paramentro ID"
   ]
  },
  {
   "cell_type": "code",
   "execution_count": 49,
   "metadata": {},
   "outputs": [],
   "source": [
    "user_input = {\n",
    "    'creator_name': 'Luiz henrique', \n",
    "    'date': ['29/11/2022', '30/11/2022', '01/12/2022'], \n",
    "    'email': {'email_user': 'vitoraugustodelimaso...@gmail.com', 'date': '01/12/2022'}, \n",
    "    'id': '9', \n",
    "    'link': 'www.zoom.com.br', \n",
    "    'qtdParticipantes': 2, \n",
    "    'status': 'Pendente', \n",
    "    'title': 'Reuniao de faturamen...embro 2022', \n",
    "    'robot_status': 'sucesso'}"
   ]
  },
  {
   "cell_type": "code",
   "execution_count": 50,
   "metadata": {},
   "outputs": [],
   "source": [
    "collection = db.collection('meetings')"
   ]
  },
  {
   "cell_type": "code",
   "execution_count": 51,
   "metadata": {},
   "outputs": [],
   "source": [
    "collection_list = collection.get()"
   ]
  },
  {
   "cell_type": "code",
   "execution_count": 52,
   "metadata": {},
   "outputs": [
    {
     "data": {
      "text/plain": [
       "[{'qtdParticipantes': 2,\n",
       "  'date': ['29/11/2022', '30/11/2022', '01/12/2022'],\n",
       "  'id': '123456',\n",
       "  'link': 'www.zoom.com.br',\n",
       "  'title': 'Reuniao de faturamen...embro 2022',\n",
       "  'robot_status': 'sucesso',\n",
       "  'status': 'Pendente',\n",
       "  'email': [{'email_user': 'vitoraugustodelimasoares@gmail.com',\n",
       "    'date': '30/11/2022'},\n",
       "   {'email_user': 'vitoraugustodelimaso...@gmail.com', 'date': '01/12/2022'}],\n",
       "  'creator_name': 'Luiz henrique'},\n",
       " {'date': ['29/11/2022', '30/11/2022', '01/12/2022'],\n",
       "  'creator': 'Luiz henrique',\n",
       "  'id': '7',\n",
       "  'qtdParticipantes': '2',\n",
       "  'link': 'www.zoom.com.br',\n",
       "  'email_list': ['vitorlima.soares@hotmail.com',\n",
       "   'vitoraugustodelimasoares@gmail.com'],\n",
       "  'title': 'Reuniao de faturamento Novembro 2022',\n",
       "  'status': 'Pendente'},\n",
       " {'qtdParticipantes': '2',\n",
       "  'creator': 'Luiz henrique',\n",
       "  'id': '8',\n",
       "  'date': ['29/11/2022', '30/11/2022', '01/12/2022'],\n",
       "  'link': 'www.zoom.com.br',\n",
       "  'title': 'Reuniao de faturamento Novembro 2022',\n",
       "  'email': ['vitorlima.soares@hotmail.com',\n",
       "   'vitoraugustodelimasoares@gmail.com'],\n",
       "  'status': 'Pendente'},\n",
       " {'qtdParticipantes': '2',\n",
       "  'creator': 'Luiz henrique',\n",
       "  'id': '9',\n",
       "  'date': ['29/11/2022', '30/11/2022', '01/12/2022'],\n",
       "  'link': 'www.zoom.com.br',\n",
       "  'title': 'Reuniao de faturamento Novembro 2022',\n",
       "  'email': ['vitorlima.soares@hotmail.com',\n",
       "   'vitoraugustodelimasoares@gmail.com'],\n",
       "  'status': 'Pendente'},\n",
       " {'qtdParticipantes': 2,\n",
       "  'date': ['29/11/2022', '30/11/2022', '01/12/2022'],\n",
       "  'id': 'd7cc2d8f-28dd-4d81-afed-b56262dfa56f',\n",
       "  'link': 'www.zoom.com.br',\n",
       "  'title': 'Reuniao de faturamen...embro 2022',\n",
       "  'robot_status': 'sucesso',\n",
       "  'status': 'Pendente',\n",
       "  'email': {'email_user': 'vitoraugustodelimaso...@gmail.com',\n",
       "   'date': '01/12/2022'},\n",
       "  'creator_name': 'Luiz henrique'},\n",
       " {'date': ['29/11', '30/11', '01/12'],\n",
       "  'creator': 'Luiz Henrique Góes',\n",
       "  'id': 'd7cc2d8f-28dd-4d81-afed-b56262dfa56f',\n",
       "  'chooseDate': '--/--',\n",
       "  'qtdParticipantes': 3,\n",
       "  'link': 'https://www.zoom.com/meetings:129038123',\n",
       "  'title': 'Reunião de faturamento Novembro 2022',\n",
       "  'status': 'Pendente',\n",
       "  'email': ['luizhgrodrigues@outlook.com',\n",
       "   'alanzinho2012@gmail.com',\n",
       "   'vitorlima@hotmail.com']}]"
      ]
     },
     "execution_count": 52,
     "metadata": {},
     "output_type": "execute_result"
    }
   ],
   "source": [
    "documnt_list = [doc.to_dict() for doc in collection_list]\n",
    "documnt_list"
   ]
  },
  {
   "cell_type": "code",
   "execution_count": 53,
   "metadata": {},
   "outputs": [
    {
     "data": {
      "text/plain": [
       "'9'"
      ]
     },
     "execution_count": 53,
     "metadata": {},
     "output_type": "execute_result"
    }
   ],
   "source": [
    "collection_name = user_input['id']\n",
    "collection_name"
   ]
  },
  {
   "cell_type": "code",
   "execution_count": 55,
   "metadata": {},
   "outputs": [
    {
     "data": {
      "text/plain": [
       "{'qtdParticipantes': '2',\n",
       " 'creator': 'Luiz henrique',\n",
       " 'id': '9',\n",
       " 'date': ['29/11/2022', '30/11/2022', '01/12/2022'],\n",
       " 'link': 'www.zoom.com.br',\n",
       " 'title': 'Reuniao de faturamento Novembro 2022',\n",
       " 'email': ['vitorlima.soares@hotmail.com',\n",
       "  'vitoraugustodelimasoares@gmail.com'],\n",
       " 'status': 'Pendente'}"
      ]
     },
     "execution_count": 55,
     "metadata": {},
     "output_type": "execute_result"
    }
   ],
   "source": [
    "main_document = [doc for doc in documnt_list if doc['id']==collection_name][0]\n",
    "main_document"
   ]
  },
  {
   "cell_type": "code",
   "execution_count": 58,
   "metadata": {},
   "outputs": [],
   "source": [
    "collection_return = main_document"
   ]
  },
  {
   "cell_type": "code",
   "execution_count": 59,
   "metadata": {},
   "outputs": [],
   "source": [
    "user_input = {'qtdParticipantes': '2',\n",
    " 'creator': 'Luiz henrique',\n",
    " 'id': '9',\n",
    " 'date': ['29/11/2022', '30/11/2022', '01/12/2022'],\n",
    " 'link': 'www.zoom.com.br',\n",
    " 'title': 'Reuniao de faturamento Novembro 2022',\n",
    " 'email': 'vitorlima.soares@hotmail.com',\n",
    " 'status': 'Pendente',\n",
    " }"
   ]
  },
  {
   "cell_type": "code",
   "execution_count": 60,
   "metadata": {},
   "outputs": [],
   "source": [
    "data_usuario = user_input['email']\n",
    "data_fb = collection_return['email']"
   ]
  },
  {
   "cell_type": "code",
   "execution_count": 62,
   "metadata": {},
   "outputs": [
    {
     "data": {
      "text/plain": [
       "['vitorlima.soares@hotmail.com', 'vitoraugustodelimasoares@gmail.com']"
      ]
     },
     "execution_count": 62,
     "metadata": {},
     "output_type": "execute_result"
    }
   ],
   "source": [
    "data_fb"
   ]
  },
  {
   "cell_type": "code",
   "execution_count": 63,
   "metadata": {},
   "outputs": [
    {
     "data": {
      "text/plain": [
       "0"
      ]
     },
     "execution_count": 63,
     "metadata": {},
     "output_type": "execute_result"
    }
   ],
   "source": [
    "replace_index = data_fb.index(data_usuario)\n",
    "replace_index"
   ]
  },
  {
   "cell_type": "code",
   "execution_count": 64,
   "metadata": {},
   "outputs": [],
   "source": [
    "data_fb[replace_index] = {\"email\":data_usuario, \"date\":\"2021\"}\n"
   ]
  },
  {
   "cell_type": "code",
   "execution_count": 65,
   "metadata": {},
   "outputs": [
    {
     "data": {
      "text/plain": [
       "[{'email': 'vitorlima.soares@hotmail.com', 'date': '2021'},\n",
       " 'vitoraugustodelimasoares@gmail.com']"
      ]
     },
     "execution_count": 65,
     "metadata": {},
     "output_type": "execute_result"
    }
   ],
   "source": [
    "data_fb"
   ]
  },
  {
   "cell_type": "code",
   "execution_count": null,
   "metadata": {},
   "outputs": [],
   "source": []
  }
 ],
 "metadata": {
  "kernelspec": {
   "display_name": "Python 3.10.4 ('venv': venv)",
   "language": "python",
   "name": "python3"
  },
  "language_info": {
   "codemirror_mode": {
    "name": "ipython",
    "version": 3
   },
   "file_extension": ".py",
   "mimetype": "text/x-python",
   "name": "python",
   "nbconvert_exporter": "python",
   "pygments_lexer": "ipython3",
   "version": "3.10.4"
  },
  "orig_nbformat": 4,
  "vscode": {
   "interpreter": {
    "hash": "eadbc60dd6dd55fcea222226a6b85252abc4cfe95ce355ff54b3df1e64e9fb14"
   }
  }
 },
 "nbformat": 4,
 "nbformat_minor": 2
}
